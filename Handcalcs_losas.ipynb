{
 "cells": [
  {
   "cell_type": "code",
   "execution_count": 1,
   "id": "4c31b70b",
   "metadata": {
    "jupyter": {
     "source_hidden": true
    }
   },
   "outputs": [],
   "source": [
    "import handcalcs.render\n",
    "handcalcs.set_option(\"display_precision\", 4)\n",
    "handcalcs.set_option(\"latex_block_start\",\"\")\n",
    "handcalcs.set_option(\"latex_block_end\",\"\")\n",
    "import forallpeople\n",
    "forallpeople.environment('structural', top_level=True)\n",
    "import pandas as pd"
   ]
  },
  {
   "cell_type": "code",
   "execution_count": 2,
   "id": "279e9d3d-a26a-4b53-b27e-14738fd63282",
   "metadata": {
    "jupyter": {
     "source_hidden": true
    }
   },
   "outputs": [],
   "source": [
    "#forallpeople.environment()"
   ]
  },
  {
   "cell_type": "markdown",
   "id": "af313aae-9274-40ef-b7e7-e3a45d65941c",
   "metadata": {},
   "source": [
    "Extrayendo los datos asociados a la losa del archivo excel \"parametros_losas.xlsx\" nos encontramos con:"
   ]
  },
  {
   "cell_type": "code",
   "execution_count": 3,
   "id": "5d7cfc2d-3c68-4bd5-a777-4f38062ab3a4",
   "metadata": {
    "jupyter": {
     "source_hidden": true
    }
   },
   "outputs": [
    {
     "data": {
      "text/html": [
       "<div>\n",
       "<style scoped>\n",
       "    .dataframe tbody tr th:only-of-type {\n",
       "        vertical-align: middle;\n",
       "    }\n",
       "\n",
       "    .dataframe tbody tr th {\n",
       "        vertical-align: top;\n",
       "    }\n",
       "\n",
       "    .dataframe thead th {\n",
       "        text-align: right;\n",
       "    }\n",
       "</style>\n",
       "<table border=\"1\" class=\"dataframe\">\n",
       "  <thead>\n",
       "    <tr style=\"text-align: right;\">\n",
       "      <th></th>\n",
       "      <th>Carga[kN]</th>\n",
       "      <th>Espesor[m]</th>\n",
       "    </tr>\n",
       "  </thead>\n",
       "  <tbody>\n",
       "    <tr>\n",
       "      <th>0</th>\n",
       "      <td>21.92</td>\n",
       "      <td>0.12</td>\n",
       "    </tr>\n",
       "    <tr>\n",
       "      <th>1</th>\n",
       "      <td>20.30</td>\n",
       "      <td>0.11</td>\n",
       "    </tr>\n",
       "    <tr>\n",
       "      <th>2</th>\n",
       "      <td>15.20</td>\n",
       "      <td>0.10</td>\n",
       "    </tr>\n",
       "  </tbody>\n",
       "</table>\n",
       "</div>"
      ],
      "text/plain": [
       "   Carga[kN]  Espesor[m]\n",
       "0      21.92        0.12\n",
       "1      20.30        0.11\n",
       "2      15.20        0.10"
      ]
     },
     "execution_count": 3,
     "metadata": {},
     "output_type": "execute_result"
    }
   ],
   "source": [
    "df = pd.read_excel(\"parametros_losas.xlsx\")\n",
    "df"
   ]
  },
  {
   "cell_type": "code",
   "execution_count": 4,
   "id": "4857cf9b-f250-4b8e-938f-bed7ce9950c8",
   "metadata": {
    "jupyter": {
     "source_hidden": true
    }
   },
   "outputs": [],
   "source": [
    "q_1u = df.values[0,0] # Selecciono el valor exacto del Pandas DataFrame (lectura del archivo de datos) y le asigno unidad\n",
    "q_1u = q_1u*kPa"
   ]
  },
  {
   "cell_type": "markdown",
   "id": "8da5ad99",
   "metadata": {},
   "source": [
    "# Cálculo estructual\n",
    "## Cálculo de momentos máximos de empotramiento\n",
    "Para el cálculo de los momentos máximos de empotramiento y de tramo haremos uso de las tablas de Erturke, partiendo de considerar a cada losas como empotrada en sus extremos. Dado que en este caso las losas no poseen idénticas luces, calcularemos el momento máximo de empotramiento como el promedio de los momentos de empotramiento calculados para las losas adyacentes.\n",
    "Para los momentos de tramo haremos uso del Principio de Superposici ́on de Efectos. Destacamos tener cuidado con la dirección de los ejes según cálculo y los dados por tabla para no tener errores. Si bien los momentos flectores de tramo máximos podrían no hallarse en el centro de cada losa, asumiremos que así lo hace."
   ]
  },
  {
   "cell_type": "markdown",
   "id": "8564ea3e-35f4-471e-8ac2-729d790fbc60",
   "metadata": {},
   "source": [
    "Para los momentos de tramo haremos uso del Principio de Superposición de Efectos. Destacamos tener cuidado con la dirección de los ejes según cálculo y los dados por tabla para no tener errores. Si bien los momentos flectores de tramo máximos podrían no hallarse en el centro de cada losa, asumiremos que así lo hace."
   ]
  },
  {
   "cell_type": "markdown",
   "id": "87a77b42-43b7-45c4-90a1-0d055e05a171",
   "metadata": {},
   "source": [
    "## Losa 1"
   ]
  },
  {
   "cell_type": "code",
   "execution_count": 5,
   "id": "c205f471-dabc-46be-9668-918c3b3e0369",
   "metadata": {
    "jupyter": {
     "source_hidden": true
    }
   },
   "outputs": [
    {
     "data": {
      "text/latex": [
       "\n",
       "\\begin{aligned}\n",
       "L_{1x} &= 4.3350\\ \\mathrm{m} \\; \\;\\textrm{(Losa 1 eje x)}\n",
       " &L_{1y} &= 3.9500\\ \\mathrm{m} \\; \\;\\textrm{(Losa 1 eje y)}\n",
       "\\end{aligned}\n"
      ],
      "text/plain": [
       "<IPython.core.display.Latex object>"
      ]
     },
     "metadata": {},
     "output_type": "display_data"
    }
   ],
   "source": [
    "%%render params\n",
    "L_1x= 420*cm + (15/2)*cm + (12/2)*cm # Losa 1 eje x\n",
    "L_1y= 380*cm + (15/2)*cm + (15/2)*cm # Losa 1 eje y"
   ]
  },
  {
   "cell_type": "code",
   "execution_count": 6,
   "id": "59e97976-9537-42fe-836b-12e3e421ac42",
   "metadata": {
    "jupyter": {
     "source_hidden": true
    }
   },
   "outputs": [
    {
     "data": {
      "text/latex": [
       "\n",
       "\\begin{aligned}\n",
       "\\lambda_{1} &= \\frac{ L_{1x} }{ L_{1y} }  = \\frac{ 4.3350\\ \\mathrm{m} }{ 3.9500\\ \\mathrm{m} } &= 1.0975 \\; \\;\\textrm{(Esbeltez losa 1)}\n",
       "\\end{aligned}\n"
      ],
      "text/plain": [
       "<IPython.core.display.Latex object>"
      ]
     },
     "metadata": {},
     "output_type": "display_data"
    }
   ],
   "source": [
    "%%render\n",
    "lamb_1 = L_1x / L_1y # Esbeltez losa 1"
   ]
  },
  {
   "cell_type": "code",
   "execution_count": 7,
   "id": "fac27dd6-d02e-45a8-b17e-7297e1b75464",
   "metadata": {
    "jupyter": {
     "source_hidden": true
    }
   },
   "outputs": [
    {
     "data": {
      "text/latex": [
       "\n",
       "\\begin{aligned}\n",
       "q_{1u} &= 21.92\\ \\mathrm{kPa} \\; \\;\\textrm{(Carga repartida en estado último de la losa 1)}\n",
       "\\end{aligned}\n"
      ],
      "text/plain": [
       "<IPython.core.display.Latex object>"
      ]
     },
     "metadata": {},
     "output_type": "display_data"
    }
   ],
   "source": [
    "%%render 2\n",
    "# Parameters\n",
    "q_1u # Carga repartida en estado último de la losa 1"
   ]
  },
  {
   "cell_type": "code",
   "execution_count": 8,
   "id": "626c63ea-5af5-475f-ac95-b513aab7c46a",
   "metadata": {
    "jupyter": {
     "source_hidden": true
    }
   },
   "outputs": [
    {
     "data": {
      "text/latex": [
       "\n",
       "\\begin{aligned}\n",
       "\\eta_{1ex} &= -0.0835 \\; \\;\\textrm{(Tabla Erturke 11)}\n",
       "\\end{aligned}\n"
      ],
      "text/plain": [
       "<IPython.core.display.Latex object>"
      ]
     },
     "metadata": {},
     "output_type": "display_data"
    }
   ],
   "source": [
    "%%render\n",
    "eta_1ex = -0.08351 # Tabla Erturke 11"
   ]
  },
  {
   "cell_type": "code",
   "execution_count": 9,
   "id": "c5942fe2-d012-4afa-a279-92df01fcc36a",
   "metadata": {
    "jupyter": {
     "source_hidden": true
    },
    "scrolled": true
   },
   "outputs": [
    {
     "data": {
      "text/latex": [
       "\n",
       "\\begin{aligned}\n",
       "Q_{1u} &= q_{1u} \\cdot L_{1x} \\cdot L_{1y}  = 21.92\\ \\mathrm{kPa} \\cdot 4.33\\ \\mathrm{m} \\cdot 3.95\\ \\mathrm{m} &= 375.34\\ \\mathrm{kN}  \n",
       "\\end{aligned}\n"
      ],
      "text/plain": [
       "<IPython.core.display.Latex object>"
      ]
     },
     "metadata": {},
     "output_type": "display_data"
    }
   ],
   "source": [
    "%%render 2\n",
    "Q_1u= q_1u * L_1x * L_1y"
   ]
  },
  {
   "cell_type": "code",
   "execution_count": 53,
   "id": "c8f4788b-6c63-4599-911c-8a2128326557",
   "metadata": {
    "jupyter": {
     "source_hidden": true
    }
   },
   "outputs": [
    {
     "data": {
      "text/latex": [
       "\n",
       "\\begin{aligned}\n",
       "m_{1ex} &= Q_{1u} \\cdot \\eta_{1ex}  = 375.3416\\ \\mathrm{kN} \\cdot -0.0835 &= -31.3448\\ \\mathrm{kN} \\; \\;\\textrm{(Agregar kNm/m)}\n",
       "\\end{aligned}\n"
      ],
      "text/plain": [
       "<IPython.core.display.Latex object>"
      ]
     },
     "metadata": {},
     "output_type": "display_data"
    }
   ],
   "source": [
    "%%render\n",
    "m_1ex = Q_1u * eta_1ex # Agregar kNm/m"
   ]
  },
  {
   "cell_type": "markdown",
   "id": "e2bc5ef6-0272-4803-b81f-c7592e72be45",
   "metadata": {},
   "source": [
    "## Losa 2"
   ]
  },
  {
   "cell_type": "markdown",
   "id": "7cca17b3-10fe-4ab6-bd64-64076b7da7fb",
   "metadata": {},
   "source": [
    "Hacemos uso de la tabla de Erturke N°11. Interpolando entre 1,00 y 1,10. Así obtenemos"
   ]
  },
  {
   "cell_type": "code",
   "execution_count": 24,
   "id": "faa519df",
   "metadata": {
    "jupyter": {
     "source_hidden": true
    }
   },
   "outputs": [
    {
     "data": {
      "text/latex": [
       "\n",
       "\\begin{aligned}\n",
       "L_{1x} &= 4.3350\\ \\mathrm{m} \\; \\;\\textrm{(Losa 1 eje x)}\n",
       " &L_{1y} &= 3.9500\\ \\mathrm{m} \\; \\;\\textrm{(Losa 1 eje y)}\n",
       "\\end{aligned}\n"
      ],
      "text/plain": [
       "<IPython.core.display.Latex object>"
      ]
     },
     "metadata": {},
     "output_type": "display_data"
    }
   ],
   "source": [
    "%%render params\n",
    "L_1x= 420*cm + (15/2)*cm + (12/2)*cm # Losa 1 eje x\n",
    "L_1y= 380*cm + (15/2)*cm + (15/2)*cm # Losa 1 eje y"
   ]
  },
  {
   "cell_type": "code",
   "execution_count": 25,
   "id": "598af036-be71-460e-aea6-c4e2bfe52207",
   "metadata": {
    "jupyter": {
     "source_hidden": true
    }
   },
   "outputs": [
    {
     "data": {
      "text/latex": [
       "\n",
       "\\begin{aligned}\n",
       "\\lambda_{1} &= \\frac{ L_{1x} }{ L_{1y} }  = \\frac{ 4.3350\\ \\mathrm{m} }{ 3.9500\\ \\mathrm{m} } &= 1.0975 \\; \\;\\textrm{(Esbeltez losa 1)}\n",
       "\\end{aligned}\n"
      ],
      "text/plain": [
       "<IPython.core.display.Latex object>"
      ]
     },
     "metadata": {},
     "output_type": "display_data"
    }
   ],
   "source": [
    "%%render\n",
    "lamb_1 = L_1x / L_1y # Esbeltez losa 1"
   ]
  },
  {
   "cell_type": "markdown",
   "id": "8d0b45f2-db57-4e60-98d8-e91a07a05a17",
   "metadata": {},
   "source": [
    "Hacemos uso de la tabla de Erturke N°11. Interpolando entre 1,00 y 1,10. Así obtenemos"
   ]
  },
  {
   "cell_type": "code",
   "execution_count": 26,
   "id": "3b73a4d2-05fb-4d36-b94f-1da457032555",
   "metadata": {
    "jupyter": {
     "source_hidden": true
    }
   },
   "outputs": [
    {
     "data": {
      "text/latex": [
       "\n",
       "\\begin{aligned}\n",
       "q_{1u} &= 21.92\\ \\mathrm{kPa} \\; \\;\\textrm{(Carga repartida en estado último de la losa 1)}\n",
       "\\end{aligned}\n"
      ],
      "text/plain": [
       "<IPython.core.display.Latex object>"
      ]
     },
     "metadata": {},
     "output_type": "display_data"
    }
   ],
   "source": [
    "%%render 2\n",
    "# Parameters\n",
    "q_1u # Carga repartida en estado último de la losa 1"
   ]
  },
  {
   "cell_type": "code",
   "execution_count": 27,
   "id": "d6d2e909-bffb-45ff-a7f7-1c3e5ca74c85",
   "metadata": {
    "jupyter": {
     "source_hidden": true
    }
   },
   "outputs": [
    {
     "data": {
      "text/latex": [
       "\n",
       "\\begin{aligned}\n",
       "\\eta_{1ex} &= -0.0835 \\; \\;\\textrm{(Tabla Erturke 11)}\n",
       "\\end{aligned}\n"
      ],
      "text/plain": [
       "<IPython.core.display.Latex object>"
      ]
     },
     "metadata": {},
     "output_type": "display_data"
    }
   ],
   "source": [
    "%%render\n",
    "eta_1ex = -0.08351 # Tabla Erturke 11"
   ]
  },
  {
   "cell_type": "code",
   "execution_count": 28,
   "id": "8cb8288d-8d48-47db-b02d-ee2222627ee3",
   "metadata": {
    "scrolled": true
   },
   "outputs": [
    {
     "data": {
      "text/latex": [
       "\n",
       "\\begin{aligned}\n",
       "Q_{1u} &= q_{1u} \\cdot L_{1x} \\cdot L_{1y}  = 21.92\\ \\mathrm{kPa} \\cdot 4.33\\ \\mathrm{m} \\cdot 3.95\\ \\mathrm{m} &= 375.34\\ \\mathrm{kN}  \n",
       "\\end{aligned}\n"
      ],
      "text/plain": [
       "<IPython.core.display.Latex object>"
      ]
     },
     "metadata": {},
     "output_type": "display_data"
    }
   ],
   "source": [
    "%%render 2\n",
    "Q_1u= q_1u * L_1x * L_1y"
   ]
  },
  {
   "cell_type": "code",
   "execution_count": 29,
   "id": "0356f1fc-a6d1-4f43-b9c4-9d984e31f4c6",
   "metadata": {
    "jupyter": {
     "source_hidden": true
    }
   },
   "outputs": [
    {
     "data": {
      "text/latex": [
       "\n",
       "\\begin{aligned}\n",
       "m_{1ex} &= Q_{1u} \\cdot \\eta_{1ex}  = 375.3416\\ \\mathrm{kN} \\cdot -0.0835 &= -31.3448\\ \\mathrm{kN} \\; \\;\\textrm{(Agregar kNm/m)}\n",
       "\\end{aligned}\n"
      ],
      "text/plain": [
       "<IPython.core.display.Latex object>"
      ]
     },
     "metadata": {},
     "output_type": "display_data"
    }
   ],
   "source": [
    "%%render\n",
    "m_1ex = Q_1u * eta_1ex # Agregar kNm/m"
   ]
  },
  {
   "cell_type": "code",
   "execution_count": 30,
   "id": "6d2a02e7-79b1-439b-8869-3368df131734",
   "metadata": {
    "jupyter": {
     "source_hidden": true
    }
   },
   "outputs": [
    {
     "data": {
      "text/latex": [
       "\n",
       "\\begin{aligned}\n",
       "f &= \\left( 2.0 \\cdot \\mathrm{kPa} \\right) + \\left( 3.0 \\cdot \\mathrm{kPa} \\right)  = \\left( 2.0 \\cdot kPa \\right) + \\left( 3.0 \\cdot kPa \\right) &= 5.00\\ \\mathrm{kPa}  \n",
       "\\end{aligned}\n"
      ],
      "text/plain": [
       "<IPython.core.display.Latex object>"
      ]
     },
     "metadata": {},
     "output_type": "display_data"
    }
   ],
   "source": [
    "%%render 2\n",
    "f = (2.0*kPa) + (3.0*kPa)"
   ]
  },
  {
   "cell_type": "code",
   "execution_count": null,
   "id": "ed086a1b-ee76-45ce-a083-2ca4e4a6dde5",
   "metadata": {},
   "outputs": [],
   "source": []
  }
 ],
 "metadata": {
  "kernelspec": {
   "display_name": "Python 3 (ipykernel)",
   "language": "python",
   "name": "python3"
  },
  "language_info": {
   "codemirror_mode": {
    "name": "ipython",
    "version": 3
   },
   "file_extension": ".py",
   "mimetype": "text/x-python",
   "name": "python",
   "nbconvert_exporter": "python",
   "pygments_lexer": "ipython3",
   "version": "3.12.1"
  }
 },
 "nbformat": 4,
 "nbformat_minor": 5
}
